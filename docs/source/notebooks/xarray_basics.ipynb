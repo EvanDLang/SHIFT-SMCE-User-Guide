{
 "cells": [
  {
   "cell_type": "markdown",
   "id": "3d1d6910-683a-4ab9-b2ca-bf0f76ece235",
   "metadata": {
    "tags": []
   },
   "source": [
    "# Xarray Basics"
   ]
  },
  {
   "cell_type": "markdown",
   "id": "12d9afa0-4f8f-4428-a8b6-a03b0e7419d7",
   "metadata": {},
   "source": [
    "This notebook demonstrates some of the basic xarray functionality.\n",
    "\n",
    "Follow this [link](https://daskhub.shift.mysmce.com/user/edlang1/pasarela/open?url=https://raw.githubusercontent.com/EvanDLang/SHIFT-SMCE-User-Guide/development/docs/source/notebooks/xarray_basics.ipynb) to open an interactive notebook and select the kernel named notebook."
   ]
  },
  {
   "cell_type": "markdown",
   "id": "bbd2b062-568b-4bcc-8d86-7e8868778951",
   "metadata": {},
   "source": [
    "## Streamlined Xarray Interface to AVIRIS Datasets"
   ]
  },
  {
   "cell_type": "markdown",
   "id": "f7100684-02f3-4e97-8037-dd893d4a399e",
   "metadata": {},
   "source": [
    "We have an experimental capability to access the entire set of AVIRIS gridded mosaics as a single Xarray dataset (that can be subset by space, time, and wavelength). To open the dataset, code like the following (pay careful attention to the open_dataset arguments, position of brackets, quotes, etc.)"
   ]
  },
  {
   "cell_type": "code",
   "execution_count": 1,
   "id": "3b5eb83b-537a-4730-8e60-3b3eac819244",
   "metadata": {},
   "outputs": [],
   "source": [
    "import xarray as xr\n",
    "import matplotlib.pyplot as plt\n",
    "import matplotlib.animation as animation\n",
    "from IPython import display\n",
    "import warnings\n",
    "import pandas as pd\n",
    "warnings.filterwarnings(\"ignore\")\n",
    "\n",
    "dat = xr.open_dataset(\"reference://\", engine=\"zarr\", backend_kwargs={\n",
    "    \"consolidated\": False,\n",
    "    \"storage_options\": {\"fo\": \"s3://dh-shift-curated/aviris/v1/gridded/zarr.json\"}\n",
    "})"
   ]
  },
  {
   "cell_type": "markdown",
   "id": "0436a9ef-c6db-41a4-9686-2eece17e7e5f",
   "metadata": {
    "tags": []
   },
   "source": [
    "### Select a pixel at a time step and plot the reflectance"
   ]
  },
  {
   "cell_type": "code",
   "execution_count": null,
   "id": "141ab9c7-e9ce-474d-80a7-c73fa86cfe83",
   "metadata": {},
   "outputs": [],
   "source": [
    "dsub = dat.sel(x=750_000, y=3_830_000, time=\"2022-02-24\", method=\"nearest\")\n",
    "dsub.reflectance.plot()"
   ]
  },
  {
   "cell_type": "markdown",
   "id": "99c31127-5508-49f0-a4b8-871df7fa9238",
   "metadata": {},
   "source": [
    "### Extract a time series for a pixel"
   ]
  },
  {
   "cell_type": "code",
   "execution_count": null,
   "id": "70923059-18b1-4140-aa66-337d11977644",
   "metadata": {},
   "outputs": [],
   "source": [
    "dsub = dat.sel(x=750_000, y=3_830_000, method=\"nearest\").reflectance\n",
    "\n",
    "fig, ax = plt.subplots()\n",
    "plt.ylabel(\"reflectance\")\n",
    "plt.xlabel(\"wavelength\")\n",
    "\n",
    "x = dsub[0].wavelength\n",
    "line, = ax.plot(x, dsub[0])\n",
    "ax.set_title(str(pd.Timestamp(dsub.time[0].item())))\n",
    "\n",
    "def animate(i):\n",
    "    line.set_ydata(dsub[i])  # update the data\n",
    "    ax.set_title(str(pd.Timestamp(dsub.time[i].item())))\n",
    "    return line,\n",
    "\n",
    "ani = animation.FuncAnimation(fig, animate, repeat=True,\n",
    "                                    frames=len(dsub), interval=1000)\n",
    "\n",
    "\n",
    "plt.close()\n",
    "video = ani.to_html5_video()\n",
    "html = display.HTML(video)\n",
    "display.display(html)"
   ]
  },
  {
   "cell_type": "markdown",
   "id": "f50fac28-b9f2-44dc-9f3f-ce61ed4bd701",
   "metadata": {},
   "source": [
    "### Select multiple adjacent pixels at a particular time"
   ]
  },
  {
   "cell_type": "code",
   "execution_count": null,
   "id": "036e45cd-a357-42ed-b708-bb449f538c30",
   "metadata": {},
   "outputs": [],
   "source": [
    "dsub = dat.sel(x=750_000, time=\"2022-02-24\", method=\"nearest\").drop(\"x\").sel(y=slice(3_830_020, 3_830_000)).reflectance\n",
    "\n",
    "fig, ax = plt.subplots()\n",
    "plt.ylabel(\"reflectance\")\n",
    "plt.xlabel(\"wavelength\")\n",
    "\n",
    "x = dsub[0].wavelength\n",
    "line, = ax.plot(x, dsub[0])\n",
    "ax.set_title(str(dsub.y[0].item()))\n",
    "\n",
    "def animate(i):\n",
    "    line.set_ydata(dsub[i])  # update the data\n",
    "    ax.set_title(\"x:750000 y: \" + str(dsub.y[i].item()))\n",
    "    return line,\n",
    "\n",
    "ani = animation.FuncAnimation(fig, animate, repeat=True,\n",
    "                                    frames=len(dsub), interval=1000)\n",
    "\n",
    "plt.close()\n",
    "video = ani.to_html5_video()\n",
    "html = display.HTML(video)\n",
    "display.display(html)"
   ]
  },
  {
   "cell_type": "markdown",
   "id": "3394c05c-f03d-4ea2-b9fb-2ac0f283ffa9",
   "metadata": {},
   "source": [
    "### Calculate a vegetation index through time for an area"
   ]
  },
  {
   "cell_type": "code",
   "execution_count": null,
   "id": "1309e82a-8c02-48eb-9a75-1a3b959e0445",
   "metadata": {},
   "outputs": [],
   "source": [
    "# Slice an area using x, y, and time\n",
    "aoi = dat.sel(x=slice(730300,731000), y=slice(3819660,3819050), time=\"2022-03-08\")\n",
    "\n",
    "# Reshape to increase computational speed\n",
    "aoi = aoi.stack(combined=('y', 'x'))\n",
    "\n",
    "# Calculate NDVI\n",
    "red = aoi.sel(wavelength=660, method=\"nearest\").reflectance\n",
    "nir = aoi.sel(wavelength=880, method=\"nearest\").reflectance\n",
    "ndvi = (nir - red) / (nir + red)\n",
    "\n",
    "# Return to the orginal shape\n",
    "ndvi = ndvi.unstack('combined')"
   ]
  },
  {
   "cell_type": "code",
   "execution_count": null,
   "id": "bdd21d50-bd7f-4880-a1d6-7c68116f16f6",
   "metadata": {},
   "outputs": [],
   "source": [
    "# Plot\n",
    "plt.figure(figsize=(8, 6), dpi=80)\n",
    "ndvi.plot.pcolormesh(\"x\", \"y\", robust=True, add_colorbar=True);"
   ]
  }
 ],
 "metadata": {
  "kernelspec": {
   "display_name": "shift_utils",
   "language": "python",
   "name": "shift_utils"
  },
  "language_info": {
   "codemirror_mode": {
    "name": "ipython",
    "version": 3
   },
   "file_extension": ".py",
   "mimetype": "text/x-python",
   "name": "python",
   "nbconvert_exporter": "python",
   "pygments_lexer": "ipython3",
   "version": "3.9.13"
  },
  "widgets": {
   "application/vnd.jupyter.widget-state+json": {
    "state": {},
    "version_major": 2,
    "version_minor": 0
   }
  }
 },
 "nbformat": 4,
 "nbformat_minor": 5
}
