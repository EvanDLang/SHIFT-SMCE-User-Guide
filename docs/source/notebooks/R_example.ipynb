{
 "cells": [
  {
   "cell_type": "markdown",
   "id": "c8ce7821-69d3-4281-9f27-ab4e106b59e7",
   "metadata": {},
   "source": [
    "# Accessing SHIFT Intake Catalog With R"
   ]
  },
  {
   "cell_type": "markdown",
   "id": "3bfa95ab-b2ce-4b44-aa09-f1592d2033ca",
   "metadata": {},
   "source": [
    "This notebook shows how to load SHIFT data using the reticulate library in R."
   ]
  },
  {
   "cell_type": "markdown",
   "id": "15eb558c-090c-4f6f-aa81-dad240dc38cc",
   "metadata": {},
   "source": [
    "Load the required R libraries and activate our Python Conda environment."
   ]
  },
  {
   "cell_type": "code",
   "execution_count": 1,
   "id": "1f638432-b545-45ff-b993-44eb11f41a7b",
   "metadata": {
    "tags": []
   },
   "outputs": [
    {
     "name": "stderr",
     "output_type": "stream",
     "text": [
      "Linking to GEOS 3.12.0, GDAL 3.7.0, PROJ 9.2.1; sf_use_s2() is TRUE\n",
      "\n",
      "── \u001b[1mAttaching core tidyverse packages\u001b[22m ──────────────────────── tidyverse 2.0.0 ──\n",
      "\u001b[32m✔\u001b[39m \u001b[34mdplyr    \u001b[39m 1.1.2     \u001b[32m✔\u001b[39m \u001b[34mreadr    \u001b[39m 2.1.4\n",
      "\u001b[32m✔\u001b[39m \u001b[34mforcats  \u001b[39m 1.0.0     \u001b[32m✔\u001b[39m \u001b[34mstringr  \u001b[39m 1.5.0\n",
      "\u001b[32m✔\u001b[39m \u001b[34mggplot2  \u001b[39m 3.4.2     \u001b[32m✔\u001b[39m \u001b[34mtibble   \u001b[39m 3.2.1\n",
      "\u001b[32m✔\u001b[39m \u001b[34mlubridate\u001b[39m 1.9.2     \u001b[32m✔\u001b[39m \u001b[34mtidyr    \u001b[39m 1.3.0\n",
      "\u001b[32m✔\u001b[39m \u001b[34mpurrr    \u001b[39m 1.0.1     \n",
      "── \u001b[1mConflicts\u001b[22m ────────────────────────────────────────── tidyverse_conflicts() ──\n",
      "\u001b[31m✖\u001b[39m \u001b[34mdplyr\u001b[39m::\u001b[32mfilter()\u001b[39m masks \u001b[34mstats\u001b[39m::filter()\n",
      "\u001b[31m✖\u001b[39m \u001b[34mdplyr\u001b[39m::\u001b[32mlag()\u001b[39m    masks \u001b[34mstats\u001b[39m::lag()\n",
      "\u001b[36mℹ\u001b[39m Use the conflicted package (\u001b[3m\u001b[34m<http://conflicted.r-lib.org/>\u001b[39m\u001b[23m) to force all conflicts to become errors\n"
     ]
    }
   ],
   "source": [
    "library(reticulate)\n",
    "library(sf)\n",
    "library(geojsonsf)\n",
    "library(tidyverse)\n",
    "use_condaenv(\"notebook\")"
   ]
  },
  {
   "cell_type": "markdown",
   "id": "35f76861-6f04-4444-9e97-f4ee77d0694a",
   "metadata": {
    "tags": []
   },
   "source": [
    "Load the required python libraries."
   ]
  },
  {
   "cell_type": "code",
   "execution_count": 2,
   "id": "b9c5731e-07dd-4560-b6ad-8df759e22eaf",
   "metadata": {
    "tags": []
   },
   "outputs": [],
   "source": [
    "spu_path <- system.file(\"python\", package = \"/efs/SHIFT-Python-Utilities/\")\n",
    "py_run_string(paste0(\"import sys; sys.path.append('\", spu_path, \"')\"))\n",
    "shift_catalog <- import(\"shift_python_utilities.intake_shift.shift_catalog\")\n",
    "rxr <- import(\"rioxarray\")\n",
    "rio <- import(\"rasterio\")\n",
    "j <-import(\"json\")"
   ]
  },
  {
   "cell_type": "markdown",
   "id": "18c1c32d-a9ec-4cb7-83ac-6e3958e2e913",
   "metadata": {},
   "source": [
    "Open a reflectance file for a given flight. Then orthorectify and subset it using a shapefile."
   ]
  },
  {
   "cell_type": "code",
   "execution_count": 3,
   "id": "6c7ab518-8dd9-40d2-9457-87c2fd7514bd",
   "metadata": {
    "tags": []
   },
   "outputs": [
    {
     "data": {
      "text/plain": [
       "<xarray.Dataset>\n",
       "Dimensions:      (lat: 383, lon: 298, wavelength: 425)\n",
       "Coordinates:\n",
       "  * lat          (lat) float64 3.813e+06 3.813e+06 ... 3.811e+06 3.811e+06\n",
       "  * lon          (lon) float64 2.348e+05 2.348e+05 ... 2.363e+05 2.363e+05\n",
       "  * wavelength   (wavelength) float64 377.2 382.2 387.2 ... 2.496e+03 2.501e+03\n",
       "    spatial_ref  int64 0\n",
       "Data variables:\n",
       "    reflectance  (lat, lon, wavelength) float32 -0.007509 -4.117e-05 ... nan nan\n",
       "    elevation    (lat, lon) float32 -23.59 -23.19 -22.79 -22.54 ... nan nan nan\n",
       "Attributes:\n",
       "    description:                 AVIRIS-NG Measured Radiances in uW nm-1 cm-2...\n",
       "    bands:                     425\n",
       "    interleave:                bil\n",
       "    data_type:                 4\n",
       "    file_type:                 ENVI\n",
       "    map_info:                  UTM, 1, 1, 224764.8, 3815937.6, 4.8, 4.8, 11, ...\n",
       "    coordinate_system_string:  PROJCS[\"WGS 84 / UTM zone 11N\",GEOGCS[\"WGS 84\"...\n",
       "    wavelength:                [ 377.1956495  382.2056495  387.2156495  392.2..."
      ]
     },
     "metadata": {},
     "output_type": "display_data"
    }
   ],
   "source": [
    "date <- \"20220224\"\n",
    "time <- \"200332\"\n",
    "ortho <- r_to_py(TRUE)\n",
    "subset <- r_to_py(\"/efs/SHIFT-Python-Utilities/shift_python_utilities/tests/test_data/intake_shift_shp/intake_shift_shp.shp\")\n",
    "\n",
    "ds = shift_catalog$SHIFTCatalog()$L2a(date=date, time=time, ortho=ortho, subset=subset)$read_chunked()\n",
    "ds"
   ]
  },
  {
   "cell_type": "markdown",
   "id": "30080bbb-88c8-4fb8-bdd4-0d2cd6158352",
   "metadata": {
    "tags": []
   },
   "source": [
    "Using the Xarray interface we can select data and load it as a numpy array by using the .values method. The numpy array can then be handled by R."
   ]
  },
  {
   "cell_type": "code",
   "execution_count": null,
   "id": "1f310d64-7259-4a3f-8304-8d442db8eb6d",
   "metadata": {
    "tags": []
   },
   "outputs": [
    {
     "data": {
      "image/png": "[encoded data removed]",
      "text/plain": [
       "plot without title"
      ]
     },
     "metadata": {
      "image/png": {
       "height": 420,
       "width": 420
      }
     },
     "output_type": "display_data"
    }
   ],
   "source": [
    "plot(ds$isel(lat=200L, lon=200L)$reflectance$values)"
   ]
  },
  {
   "cell_type": "markdown",
   "id": "12a1d3e8-57ba-4855-8a05-bb49f1598c9b",
   "metadata": {},
   "source": [
    "Load the gridded data and write the CRS."
   ]
  },
  {
   "cell_type": "code",
   "execution_count": null,
   "id": "a436189c-8923-42a8-aac0-0a0dc9600694",
   "metadata": {
    "tags": []
   },
   "outputs": [
    {
     "data": {
      "text/plain": [
       "CRS.from_epsg(32610)"
      ]
     },
     "metadata": {},
     "output_type": "display_data"
    }
   ],
   "source": [
    "ds = shift_catalog$SHIFTCatalog()$aviris_v1_gridded()$read_chunked()\n",
    "crs <- ds$attrs['coordinate system string']\n",
    "crs <- paste(unlist(crs), collapse=\",\")\n",
    "ds <- ds$rio$write_crs(rio$CRS$from_wkt(crs))\n",
    "ds$rio$crs"
   ]
  },
  {
   "cell_type": "markdown",
   "id": "d730cafa-e1ce-42b6-b762-7cf1f2df9d84",
   "metadata": {},
   "source": [
    "Read in the shapefile using the sf library and set the CRS."
   ]
  },
  {
   "cell_type": "code",
   "execution_count": null,
   "id": "db744d23-4026-4d4a-8ad0-be38cbd644a8",
   "metadata": {
    "tags": []
   },
   "outputs": [
    {
     "name": "stdout",
     "output_type": "stream",
     "text": [
      "Reading layer `quick_start_shp' from data source \n",
      "  `/efs/SHIFT-Python-Utilities/shift_python_utilities/tests/test_data/quick_start_shp/quick_start_shp.shp' \n",
      "  using driver `ESRI Shapefile'\n",
      "Simple feature collection with 3 features and 1 field\n",
      "Geometry type: POLYGON\n",
      "Dimension:     XY\n",
      "Bounding box:  xmin: -120.491 ymin: 34.48777 xmax: -120.486 ymax: 34.49217\n",
      "Geodetic CRS:  WGS 84\n"
     ]
    }
   ],
   "source": [
    "shp <- st_read(\"/efs/SHIFT-Python-Utilities/shift_python_utilities/tests/test_data/quick_start_shp/quick_start_shp.shp\")\n",
    "shp <- st_transform(shp, crs = 32610)"
   ]
  },
  {
   "cell_type": "markdown",
   "id": "58f7c40b-fe6e-4e2e-80d5-1db646c38416",
   "metadata": {},
   "source": [
    "In order to subset the data with the shapefile, it must be converted to a format that the Python library rioxarray can understand. To do this:\n",
    "\n",
    "* Convert the shapefile into a geojson\n",
    "* Using Python's json library read the geojson\n",
    "* Extract the geometries from the geojson and format them as a list"
   ]
  },
  {
   "cell_type": "code",
   "execution_count": null,
   "id": "f5ac30de-6937-4675-8be6-3e2e0186ca01",
   "metadata": {
    "tags": []
   },
   "outputs": [
    {
     "data": {
      "text/plain": [
       "[{'type': 'Polygon', 'coordinates': [[[730835.9143629806, 3819434.677584135], [730855.1601562507, 3819239.9101562495], [730673.4798677885, 3819354.615084133], [730835.9143629806, 3819434.677584135]]]}, {'type': 'Polygon', 'coordinates': [[[730553.3861177885, 3819195.2599158636], [730646.535757211, 3819200.648737979], [730680.4083533651, 3819122.125901441], [730502.5772235568, 3819101.3404447106], [730427.9035456735, 3819187.561598557], [730553.3861177885, 3819195.2599158636]]]}]"
      ]
     },
     "metadata": {},
     "output_type": "display_data"
    }
   ],
   "source": [
    "geo <- sf_geojson(shp)\n",
    "geo <- r_to_py(j$loads(geo))\n",
    "geometries <- r_to_py(c(geo['features'][1]['geometry'], geo['features'][2]['geometry']))\n",
    "geometries"
   ]
  },
  {
   "cell_type": "markdown",
   "id": "a24ddbf2-d684-48f1-ae74-abfc74b4fa0a",
   "metadata": {},
   "source": [
    "The geometries are now in a format rioxarry can handle allowing us to subset the gridded data"
   ]
  },
  {
   "cell_type": "code",
   "execution_count": null,
   "id": "9780ab6f-29bb-4903-b461-7d5dc88be820",
   "metadata": {
    "tags": []
   },
   "outputs": [
    {
     "data": {
      "text/plain": [
       "<xarray.Dataset>\n",
       "Dimensions:      (time: 13, wavelength: 425, x: 87, y: 67)\n",
       "Coordinates:\n",
       "  * time         (time) datetime64[us] 2022-02-24 2022-02-28 ... 2022-05-29\n",
       "  * wavelength   (wavelength) float32 377.2 382.2 387.2 ... 2.496e+03 2.501e+03\n",
       "  * x            (x) float64 7.304e+05 7.304e+05 ... 7.309e+05 7.309e+05\n",
       "  * y            (y) float64 3.819e+06 3.819e+06 ... 3.819e+06 3.819e+06\n",
       "    spatial_ref  int64 0\n",
       "Data variables:\n",
       "    reflectance  (time, y, wavelength, x) float32 dask.array<chunksize=(1, 1, 425, 87), meta=np.ndarray>\n",
       "Attributes: (12/13)\n",
       "    description:               flight_products/20220224/box_mosaics/box_rfl_p...\n",
       "    samples:                   13739\n",
       "    lines:                     12023\n",
       "    bands:                     425\n",
       "    header offset:             0\n",
       "    file type:                 ENVI Standard\n",
       "    ...                        ...\n",
       "    interleave:                bil\n",
       "    byte order:                0\n",
       "    map info:                  ['UTM', '1', '1', '717720', '3865865', '5', '5...\n",
       "    coordinate system string:  ['PROJCS[\"WGS_1984_UTM_Zone_10N\"', 'GEOGCS[\"GC...\n",
       "    wavelength:                ['377.1956495', '382.20564950000005', '387.215...\n",
       "    fwhm:                      ['5.57', '5.58', '5.58', '5.58', '5.5900000000..."
      ]
     },
     "metadata": {},
     "output_type": "display_data"
    }
   ],
   "source": [
    "ds$rio$clip(geometries, all_touched=r_to_py(TRUE))"
   ]
  }
 ],
 "metadata": {
  "kernelspec": {
   "display_name": "R [conda env:r_env]",
   "language": "R",
   "name": "conda-env-r_env-r"
  },
  "language_info": {
   "codemirror_mode": "r",
   "file_extension": ".r",
   "mimetype": "text/x-r-source",
   "name": "R",
   "pygments_lexer": "r",
   "version": "4.3.0"
  },
  "widgets": {
   "application/vnd.jupyter.widget-state+json": {
    "state": {},
    "version_major": 2,
    "version_minor": 0
   }
  }
 },
 "nbformat": 4,
 "nbformat_minor": 5
}
