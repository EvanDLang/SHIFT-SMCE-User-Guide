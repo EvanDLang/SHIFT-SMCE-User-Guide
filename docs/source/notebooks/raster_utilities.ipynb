{
 "cells": [
  {
   "cell_type": "markdown",
   "id": "04ca7ba1-936e-4bf7-9ae2-0bc8386e2717",
   "metadata": {},
   "source": [
    "# Raster Operations"
   ]
  },
  {
   "cell_type": "markdown",
   "id": "296c61c1-56b0-4f2e-ba6a-8b5a70c94365",
   "metadata": {},
   "source": [
    "## Reprojection and Clipping"
   ]
  },
  {
   "cell_type": "markdown",
   "id": "0972f1ee-5f6d-4535-b52d-5dc7467e8798",
   "metadata": {},
   "source": [
    "There are several methods for reprojecting raster data. This notebook provides examples for using the Shift Python Utilities library(SPU), Rioxarray and GDALWarp."
   ]
  },
  {
   "cell_type": "markdown",
   "id": "9d8ab201-e04d-4866-a1e2-7ca84c42e81b",
   "metadata": {},
   "source": [
    "Reprojection is a very memory intensive task and can take along time to execute. When performing this task it is recommended that you select the largest instance option\n",
    "inorder to have enough memory. In testing SPU(which uses rasterio) was the most performant for very large files. However, even though GDALWarp took longer it can be more reliable. It has more functionality and flexibility and will always carry out the correct order of operations. Rioxarray was found to be the slowest and often would fail when working with very large data."
   ]
  },
  {
   "cell_type": "markdown",
   "id": "a55751f3-1a1e-4651-8d7f-6ceb6d437e23",
   "metadata": {},
   "source": [
    "### SHIFT Python Utilities Library"
   ]
  },
  {
   "cell_type": "code",
   "execution_count": null,
   "id": "88137b7e-dbbe-4740-aebe-edb8e475a8cd",
   "metadata": {},
   "outputs": [],
   "source": [
    "from shift_python_utilities.raster_utilities import reproject_raster, clip_raster\n",
    "import geopandas as gpd\n",
    "\n",
    "input_file = \"/efs/edlang1/test_data/infile\"\n",
    "out_path = '/efs/edlang1/test_data/outfile'\n",
    "df_path = '/efs/edlang1/test_data/path_to_shape'\n",
    "\n",
    "# Read in shapefile\n",
    "geodf = gpd.read_file(shapefile)\n",
    "# reproject dataframe to the appropriate CRS\n",
    "geodf = geodf.to_crs(geodf.estimate_utm_crs(datum_name='WGS 84'))\n",
    "\n",
    "# clip the raster with the geodataframe\n",
    "clip_raster(input_raster, geodf, output_raster)\n",
    "\n",
    "# reproject the raster \n",
    "reproject_raster(output_raster, out_path, crs, resampling_method, resolution)"
   ]
  },
  {
   "cell_type": "markdown",
   "id": "e6b3f1a8-8731-4fa3-b5bf-05dc596db54b",
   "metadata": {},
   "source": [
    "### Rioxarray"
   ]
  },
  {
   "cell_type": "code",
   "execution_count": null,
   "id": "c570ef0e-a8f5-495b-820e-1d23b41cdcb9",
   "metadata": {},
   "outputs": [],
   "source": [
    "import rioxarray as rxr\n",
    "\n",
    "# Open the input file\n",
    "ds = rxr.open_rasterio(input_file)\n",
    "# Clip with the shapefile\n",
    "clipped = ds.rio.clip(geodf.geometry.values, all_touched=True)\n",
    "\n",
    "# For larger files Rioxarray recommends using the from disk argument to prevent the entire file from being loaded into memory.\n",
    "# In testing it was found that even with from_disk=True, the code would time out\n",
    "clipped = ds.rio.clip(geodf.geometry.values, all_touched=True, from_disk=True)"
   ]
  },
  {
   "cell_type": "markdown",
   "id": "72742e39-92a9-4154-9a3b-3cacba23ac6b",
   "metadata": {},
   "source": [
    "### GDALWarp"
   ]
  },
  {
   "cell_type": "markdown",
   "id": "18de097d-6910-4129-bca4-f9db7a3dd632",
   "metadata": {},
   "source": [
    "Common Arguments:\n",
    "\n",
    "- -of: Output file type\n",
    "- -t_srs: Target spatial reference\n",
    "- -tr: Target resolution\n",
    "- -r: Resampling method\n",
    "- -cutline: Inputfile used for cropping\n",
    "- -crop_to_cutline: Crops the output to the cutline\n",
    "- -overwrite: Overwrite the output_file if it exisits already\n",
    "See the [Documentation](https://gdal.org/programs/gdalwarp.html) for more information\n",
    "\n",
    "From the command line: \n",
    "\n",
    "gdalwarp \\<input_file> \\<output_file> -of envi -tr 30 -30 -cutline \\<shapefile> -crop_to_cutline -overwrite"
   ]
  },
  {
   "cell_type": "code",
   "execution_count": null,
   "id": "d95a2fa7-3186-4cfc-ba8c-f32160267a01",
   "metadata": {},
   "outputs": [],
   "source": []
  }
 ],
 "metadata": {
  "kernelspec": {
   "display_name": "Python [conda env:shift_utils]",
   "language": "python",
   "name": "conda-env-shift_utils-py"
  },
  "language_info": {
   "codemirror_mode": {
    "name": "ipython",
    "version": 3
   },
   "file_extension": ".py",
   "mimetype": "text/x-python",
   "name": "python",
   "nbconvert_exporter": "python",
   "pygments_lexer": "ipython3",
   "version": "3.9.13"
  }
 },
 "nbformat": 4,
 "nbformat_minor": 5
}
